{
 "cells": [
  {
   "cell_type": "markdown",
   "id": "7e5a690f",
   "metadata": {},
   "source": [
    "**Ejercicio 1**: Datos no Estructurados, clasificación de documentos en formato imagen de Davivienda.\n",
    "\n",
    "**Por**: *David Doncel Ballén*, creado en agosto 7 de 2022.\n",
    "\n",
    "**Code Repository**: https://github.com/DaDo82/Machine-Learning/tree/main/Ej1_clasificacion_img_doc"
   ]
  },
  {
   "cell_type": "markdown",
   "id": "3189d883",
   "metadata": {},
   "source": [
    "# Ejercicio 1 - Clasificación de documentos con o sin contenido en formato imagen."
   ]
  },
  {
   "cell_type": "markdown",
   "id": "293bd7d5",
   "metadata": {},
   "source": [
    "El objetivo de este ejercicio es clasificar hojas de documentos con o sin contenido que se encuentran en formato imagen implementando una red neuronal artificial multicapa desde cero.\n",
    "Es importante reconocer el aporte de Juan Ignacio Bagnato el autor del blog Aprende Machine Learning (https://www.aprendemachinelearning.com/), que gracias a sus ejemplos se logran adaptar y desaroolar el código que encontraran en este note book."
   ]
  },
  {
   "cell_type": "markdown",
   "id": "31941583",
   "metadata": {},
   "source": [
    "# Contenido"
   ]
  },
  {
   "cell_type": "markdown",
   "id": "899482ff",
   "metadata": {},
   "source": [
    "- [Cargue de las Imágenes](#Cargue-de-las-imágenes)\n",
    "  - [Lecturas de las imágenes](#Lecturas-de-las-imágenes)\n",
    "- [Selección de las muestras de entrenamiento y validación](#Selección-de-las-muestras-de-entrenamiento-y-validación)\n",
    "- [Definición de los parámetros de la RED](#Definición-de-los-parámetros-de-la-RED)\n",
    "- [Análisis de Resultados](#Análisis-de-Resultados)\n",
    "  - [Probando la clasificación del modelo con los datos de Testeo](#Probando-la-clasificación-del-modelo-con-los-datos-de-Testeo)\n"
   ]
  },
  {
   "cell_type": "markdown",
   "id": "23c4c930",
   "metadata": {},
   "source": [
    "<br>\n",
    "<br>"
   ]
  },
  {
   "cell_type": "markdown",
   "id": "f5593ceb",
   "metadata": {},
   "source": [
    "# Cargue de las Imágenes"
   ]
  },
  {
   "cell_type": "code",
   "execution_count": 1,
   "id": "56d751bd",
   "metadata": {},
   "outputs": [],
   "source": [
    "#Librerias básicas para el análisis y visualización de datos\n",
    "import numpy as np\n",
    "import pandas as pd\n",
    "import seaborn as sns\n",
    "import os\n",
    "import re\n",
    "import matplotlib.pyplot as plt\n",
    "%matplotlib inline\n",
    "\n",
    "#Librerias Machine Learning y Deep Learning\n",
    "from sklearn.model_selection import train_test_split\n",
    "from sklearn.metrics import classification_report\n",
    "import keras\n",
    "from keras.utils import to_categorical\n",
    "\n",
    "#Activación de TensorFlow con Tarjeta Gráfica Nvidia Geforce GTX 1650 TI\n",
    "import tensorflow as tf\n",
    "from tensorflow.keras import Input\n",
    "from keras.layers import Dense, Dropout, Flatten\n",
    "from keras.layers import Conv2D, MaxPooling2D\n",
    "from tensorflow.keras.layers import BatchNormalization\n",
    "from tensorflow.keras.layers import LeakyReLU\n",
    "from keras.models import Sequential"
   ]
  },
  {
   "cell_type": "markdown",
   "id": "ea8c5269",
   "metadata": {},
   "source": [
    "## Lecturas de las imágenes"
   ]
  },
  {
   "cell_type": "code",
   "execution_count": 2,
   "id": "ba5bbaf0",
   "metadata": {},
   "outputs": [
    {
     "name": "stdout",
     "output_type": "stream",
     "text": [
      "leyendo imagenes de  D:\\Data_Science\\Pruebas\\Davivienda\\Ejercicio_1_Imagenes\\Notebook\\Datasets\\\n",
      "D:\\Data_Science\\Pruebas\\Davivienda\\Ejercicio_1_Imagenes\\Notebook\\Datasets\\Blanco 1\n",
      "D:\\Data_Science\\Pruebas\\Davivienda\\Ejercicio_1_Imagenes\\Notebook\\Datasets\\Documentos 147\n",
      "Directorios leidos: 2\n",
      "Imágenes en cada directorio [148, 99]\n",
      "Suma Total de imágenes en subdirs: 247\n"
     ]
    }
   ],
   "source": [
    "dirname = os.path.join(os.getcwd(), 'Datasets')\n",
    "imgpath = dirname + os.sep \n",
    "\n",
    "images = []\n",
    "directories = []\n",
    "dircount = []\n",
    "prevRoot=''\n",
    "cant=0\n",
    "\n",
    "print(\"leyendo imagenes de \",imgpath)\n",
    "\n",
    "for root, dirnames, filenames in os.walk(imgpath):\n",
    "    for filename in filenames:\n",
    "        if re.search(\"\\.(jpg|jpeg|png|bmp|tiff)$\", filename):\n",
    "            cant=cant+1\n",
    "            filepath = os.path.join(root, filename)\n",
    "            image = plt.imread(filepath)\n",
    "            images.append(image)\n",
    "            b = \"Leyendo...\" + str(cant)\n",
    "            print (b, end=\"\\r\")\n",
    "            if prevRoot !=root:\n",
    "                print(root, cant)\n",
    "                prevRoot=root\n",
    "                directories.append(root)\n",
    "                dircount.append(cant)\n",
    "                cant=0\n",
    "dircount.append(cant)\n",
    "\n",
    "dircount = dircount[1:]\n",
    "dircount[0]=dircount[0]+1\n",
    "print('Directorios leidos:',len(directories))\n",
    "print(\"Imágenes en cada directorio\", dircount)\n",
    "print('Suma Total de imágenes en subdirs:',sum(dircount))"
   ]
  },
  {
   "cell_type": "code",
   "execution_count": 3,
   "id": "c7ab7c78",
   "metadata": {},
   "outputs": [
    {
     "name": "stdout",
     "output_type": "stream",
     "text": [
      "Cantidad etiquetas creadas:  247\n",
      "0 Blanco\n",
      "1 Documentos\n",
      "Total number of outputs :  2\n",
      "Output classes :  [0 1]\n"
     ]
    }
   ],
   "source": [
    "labels=[]\n",
    "indice=0\n",
    "for cantidad in dircount:\n",
    "    for i in range(cantidad):\n",
    "        labels.append(indice)\n",
    "    indice=indice+1\n",
    "print(\"Cantidad etiquetas creadas: \",len(labels))\n",
    "\n",
    "tipo_documento=[]\n",
    "indice=0\n",
    "for directorio in directories:\n",
    "    name = directorio.split(os.sep)\n",
    "    print(indice , name[len(name)-1])\n",
    "    tipo_documento.append(name[len(name)-1])\n",
    "    indice=indice+1\n",
    "    \n",
    "y = np.array(labels)\n",
    "X = np.array(images, dtype=np.uint8) #conviertiendo a matriz\n",
    "\n",
    "# Creación de labels\n",
    "classes = np.unique(y)\n",
    "nClasses = len(classes)\n",
    "print('Total number of outputs : ', nClasses)\n",
    "print('Output classes : ', classes)\n"
   ]
  },
  {
   "cell_type": "markdown",
   "id": "0fc6b6ba",
   "metadata": {},
   "source": [
    "# Selección de las muestras de entrenamiento y validación\n",
    "En este paso la categoria se convierte a codificación, es decir, documento [1, 0], en blanco [1, 0]. Esto ayuda a mejorar el rendimiento de la RED y la ontención de la respuesta. Asimismo se define un conjunto de 80% de datos para entrenamiento y 20% de testeo."
   ]
  },
  {
   "cell_type": "code",
   "execution_count": 4,
   "id": "7ec708ac",
   "metadata": {},
   "outputs": [
    {
     "name": "stdout",
     "output_type": "stream",
     "text": [
      "Training data shape :  (197, 400, 250, 3) (197,)\n",
      "Testing data shape :  (50, 400, 250, 3) (50,)\n",
      "Categoria Original: 0\n",
      "Despues de aplicar la codificación: [1. 0.]\n",
      "(157, 400, 250, 3) (40, 400, 250, 3) (157, 2) (40, 2)\n"
     ]
    }
   ],
   "source": [
    "# Mezclar todo y crear los grupos de entrenamiento y testeo\n",
    "train_X,test_X,train_Y,test_Y = train_test_split(X,y,test_size=0.2)\n",
    "print('Training data shape : ', train_X.shape, train_Y.shape)\n",
    "print('Testing data shape : ', test_X.shape, test_Y.shape)\n",
    "\n",
    "train_X = train_X.astype('float32')\n",
    "test_X = test_X.astype('float32')\n",
    "train_X = train_X / 255.\n",
    "test_X = test_X / 255.\n",
    "\n",
    "# cambiando las categorias por la codificación de 0 y 1\n",
    "train_Y_one_hot = to_categorical(train_Y)\n",
    "test_Y_one_hot = to_categorical(test_Y)\n",
    "\n",
    "# Display the change for category label using one-hot encoding\n",
    "print('Categoria Original:', train_Y[0])\n",
    "print('Despues de aplicar la codificación:', train_Y_one_hot[0])\n",
    "\n",
    "train_X,valid_X,train_label,valid_label = train_test_split(train_X, train_Y_one_hot, test_size=0.2, random_state=13)\n",
    "\n",
    "print(train_X.shape,valid_X.shape,train_label.shape,valid_label.shape)"
   ]
  },
  {
   "cell_type": "markdown",
   "id": "08e76a83",
   "metadata": {},
   "source": [
    "# Definición de los parámetros de la RED\n",
    "Se opta por seleccionar un set de procesamiento de 16 imágenes y un filtro de 5x5 para la convolución. Aumentar estos parámetros conlleva a disminuir la precisión de la RED NEURONAL. Y con 50 epocas hay tendencia de incremento de la precisión aunque con apariciones de máximos locales."
   ]
  },
  {
   "cell_type": "code",
   "execution_count": 5,
   "id": "4b65d17a",
   "metadata": {},
   "outputs": [
    {
     "name": "stdout",
     "output_type": "stream",
     "text": [
      "Model: \"sequential\"\n",
      "_________________________________________________________________\n",
      " Layer (type)                Output Shape              Param #   \n",
      "=================================================================\n",
      " conv2d (Conv2D)             (None, 400, 250, 16)      1216      \n",
      "                                                                 \n",
      " leaky_re_lu (LeakyReLU)     (None, 400, 250, 16)      0         \n",
      "                                                                 \n",
      " max_pooling2d (MaxPooling2D  (None, 200, 125, 16)     0         \n",
      " )                                                               \n",
      "                                                                 \n",
      " dropout (Dropout)           (None, 200, 125, 16)      0         \n",
      "                                                                 \n",
      " flatten (Flatten)           (None, 400000)            0         \n",
      "                                                                 \n",
      " dense (Dense)               (None, 16)                6400016   \n",
      "                                                                 \n",
      " leaky_re_lu_1 (LeakyReLU)   (None, 16)                0         \n",
      "                                                                 \n",
      " dropout_1 (Dropout)         (None, 16)                0         \n",
      "                                                                 \n",
      " dense_1 (Dense)             (None, 2)                 34        \n",
      "                                                                 \n",
      "=================================================================\n",
      "Total params: 6,401,266\n",
      "Trainable params: 6,401,266\n",
      "Non-trainable params: 0\n",
      "_________________________________________________________________\n"
     ]
    }
   ],
   "source": [
    "INIT_LR = 1e-3\n",
    "epochs = 50\n",
    "batch_size = 16\n",
    "\n",
    "Imgclass_model = Sequential()\n",
    "Imgclass_model.add(Conv2D(16, kernel_size=(5, 5),activation='linear',padding='same',input_shape=(400,250,3)))\n",
    "Imgclass_model.add(LeakyReLU(alpha=0.1))\n",
    "Imgclass_model.add(MaxPooling2D((2, 2),padding='same'))\n",
    "Imgclass_model.add(Dropout(0.5))\n",
    "\n",
    "Imgclass_model.add(Flatten())\n",
    "Imgclass_model.add(Dense(16, activation='linear'))\n",
    "Imgclass_model.add(LeakyReLU(alpha=0.1))\n",
    "Imgclass_model.add(Dropout(0.5)) \n",
    "Imgclass_model.add(Dense(nClasses, activation='softmax'))\n",
    "\n",
    "Imgclass_model.summary()\n",
    "\n",
    "Imgclass_model.compile(loss=keras.losses.categorical_crossentropy, optimizer=keras.optimizers.Adagrad(learning_rate=INIT_LR, decay=INIT_LR / 100),metrics=['accuracy'])"
   ]
  },
  {
   "cell_type": "code",
   "execution_count": 6,
   "id": "3b88a681",
   "metadata": {},
   "outputs": [
    {
     "name": "stdout",
     "output_type": "stream",
     "text": [
      "Epoch 1/50\n",
      "10/10 [==============================] - 3s 82ms/step - loss: 2.3570 - accuracy: 0.4968 - val_loss: 0.7207 - val_accuracy: 0.6250\n",
      "Epoch 2/50\n",
      "10/10 [==============================] - 0s 37ms/step - loss: 0.8953 - accuracy: 0.5924 - val_loss: 0.6526 - val_accuracy: 0.6250\n",
      "Epoch 3/50\n",
      "10/10 [==============================] - 0s 37ms/step - loss: 0.7749 - accuracy: 0.5414 - val_loss: 0.6423 - val_accuracy: 0.6250\n",
      "Epoch 4/50\n",
      "10/10 [==============================] - 0s 37ms/step - loss: 0.7221 - accuracy: 0.6242 - val_loss: 0.6281 - val_accuracy: 0.6250\n",
      "Epoch 5/50\n",
      "10/10 [==============================] - 0s 37ms/step - loss: 0.6693 - accuracy: 0.6433 - val_loss: 0.6143 - val_accuracy: 0.7250\n",
      "Epoch 6/50\n",
      "10/10 [==============================] - 0s 37ms/step - loss: 0.6915 - accuracy: 0.5860 - val_loss: 0.6081 - val_accuracy: 0.6250\n",
      "Epoch 7/50\n",
      "10/10 [==============================] - 0s 37ms/step - loss: 0.6426 - accuracy: 0.6369 - val_loss: 0.6332 - val_accuracy: 0.6250\n",
      "Epoch 8/50\n",
      "10/10 [==============================] - 0s 37ms/step - loss: 0.7734 - accuracy: 0.5924 - val_loss: 0.5694 - val_accuracy: 0.6250\n",
      "Epoch 9/50\n",
      "10/10 [==============================] - 0s 37ms/step - loss: 0.6703 - accuracy: 0.6369 - val_loss: 0.5858 - val_accuracy: 0.6250\n",
      "Epoch 10/50\n",
      "10/10 [==============================] - 0s 38ms/step - loss: 0.5827 - accuracy: 0.6879 - val_loss: 0.5634 - val_accuracy: 0.7750\n",
      "Epoch 11/50\n",
      "10/10 [==============================] - 0s 37ms/step - loss: 0.5082 - accuracy: 0.8408 - val_loss: 0.5367 - val_accuracy: 0.6250\n",
      "Epoch 12/50\n",
      "10/10 [==============================] - 0s 37ms/step - loss: 0.4424 - accuracy: 0.7707 - val_loss: 0.2798 - val_accuracy: 0.9250\n",
      "Epoch 13/50\n",
      "10/10 [==============================] - 0s 37ms/step - loss: 0.3107 - accuracy: 0.9045 - val_loss: 0.3671 - val_accuracy: 0.7750\n",
      "Epoch 14/50\n",
      "10/10 [==============================] - 0s 37ms/step - loss: 0.2849 - accuracy: 0.8726 - val_loss: 0.2488 - val_accuracy: 0.9250\n",
      "Epoch 15/50\n",
      "10/10 [==============================] - 0s 37ms/step - loss: 0.3133 - accuracy: 0.8854 - val_loss: 0.4139 - val_accuracy: 0.9750\n",
      "Epoch 16/50\n",
      "10/10 [==============================] - 0s 37ms/step - loss: 0.2915 - accuracy: 0.9427 - val_loss: 0.1733 - val_accuracy: 0.9500\n",
      "Epoch 17/50\n",
      "10/10 [==============================] - 0s 37ms/step - loss: 0.2222 - accuracy: 0.9490 - val_loss: 0.1527 - val_accuracy: 0.9750\n",
      "Epoch 18/50\n",
      "10/10 [==============================] - 0s 38ms/step - loss: 0.2063 - accuracy: 0.9554 - val_loss: 0.1583 - val_accuracy: 0.9500\n",
      "Epoch 19/50\n",
      "10/10 [==============================] - 0s 37ms/step - loss: 0.1938 - accuracy: 0.9490 - val_loss: 0.1287 - val_accuracy: 0.9750\n",
      "Epoch 20/50\n",
      "10/10 [==============================] - 0s 38ms/step - loss: 0.1782 - accuracy: 0.9427 - val_loss: 0.1406 - val_accuracy: 0.9500\n",
      "Epoch 21/50\n",
      "10/10 [==============================] - 0s 37ms/step - loss: 0.2046 - accuracy: 0.9554 - val_loss: 0.1263 - val_accuracy: 0.9500\n",
      "Epoch 22/50\n",
      "10/10 [==============================] - 0s 37ms/step - loss: 0.1999 - accuracy: 0.9363 - val_loss: 0.1200 - val_accuracy: 0.9500\n",
      "Epoch 23/50\n",
      "10/10 [==============================] - 0s 37ms/step - loss: 0.1445 - accuracy: 0.9618 - val_loss: 0.1292 - val_accuracy: 0.9500\n",
      "Epoch 24/50\n",
      "10/10 [==============================] - 0s 37ms/step - loss: 0.1439 - accuracy: 0.9618 - val_loss: 0.1165 - val_accuracy: 0.9500\n",
      "Epoch 25/50\n",
      "10/10 [==============================] - 0s 37ms/step - loss: 0.1388 - accuracy: 0.9618 - val_loss: 0.0875 - val_accuracy: 0.9750\n",
      "Epoch 26/50\n",
      "10/10 [==============================] - 0s 37ms/step - loss: 0.1340 - accuracy: 0.9618 - val_loss: 0.1053 - val_accuracy: 0.9500\n",
      "Epoch 27/50\n",
      "10/10 [==============================] - 0s 37ms/step - loss: 0.1636 - accuracy: 0.9745 - val_loss: 0.1624 - val_accuracy: 0.9250\n",
      "Epoch 28/50\n",
      "10/10 [==============================] - 0s 37ms/step - loss: 0.2018 - accuracy: 0.9045 - val_loss: 0.1340 - val_accuracy: 0.9500\n",
      "Epoch 29/50\n",
      "10/10 [==============================] - 0s 37ms/step - loss: 0.1631 - accuracy: 0.9618 - val_loss: 0.1055 - val_accuracy: 0.9500\n",
      "Epoch 30/50\n",
      "10/10 [==============================] - 0s 37ms/step - loss: 0.1593 - accuracy: 0.9745 - val_loss: 0.1434 - val_accuracy: 0.9500\n",
      "Epoch 31/50\n",
      "10/10 [==============================] - 0s 37ms/step - loss: 0.1172 - accuracy: 0.9682 - val_loss: 0.0807 - val_accuracy: 0.9500\n",
      "Epoch 32/50\n",
      "10/10 [==============================] - 0s 37ms/step - loss: 0.1372 - accuracy: 0.9682 - val_loss: 0.0785 - val_accuracy: 0.9500\n",
      "Epoch 33/50\n",
      "10/10 [==============================] - 0s 37ms/step - loss: 0.1195 - accuracy: 0.9682 - val_loss: 0.0799 - val_accuracy: 0.9500\n",
      "Epoch 34/50\n",
      "10/10 [==============================] - 0s 37ms/step - loss: 0.1560 - accuracy: 0.9682 - val_loss: 0.0823 - val_accuracy: 0.9500\n",
      "Epoch 35/50\n",
      "10/10 [==============================] - 0s 38ms/step - loss: 0.1351 - accuracy: 0.9618 - val_loss: 0.0833 - val_accuracy: 0.9500\n",
      "Epoch 36/50\n",
      "10/10 [==============================] - 0s 37ms/step - loss: 0.1305 - accuracy: 0.9682 - val_loss: 0.0673 - val_accuracy: 0.9750\n",
      "Epoch 37/50\n",
      "10/10 [==============================] - 0s 38ms/step - loss: 0.1169 - accuracy: 0.9809 - val_loss: 0.0770 - val_accuracy: 0.9500\n",
      "Epoch 38/50\n",
      "10/10 [==============================] - 0s 38ms/step - loss: 0.0924 - accuracy: 0.9809 - val_loss: 0.1130 - val_accuracy: 0.9500\n",
      "Epoch 39/50\n",
      "10/10 [==============================] - 0s 37ms/step - loss: 0.1091 - accuracy: 0.9554 - val_loss: 0.0852 - val_accuracy: 0.9500\n",
      "Epoch 40/50\n",
      "10/10 [==============================] - 0s 38ms/step - loss: 0.1438 - accuracy: 0.9618 - val_loss: 0.0930 - val_accuracy: 0.9500\n",
      "Epoch 41/50\n",
      "10/10 [==============================] - 0s 37ms/step - loss: 0.1282 - accuracy: 0.9490 - val_loss: 0.0879 - val_accuracy: 0.9500\n",
      "Epoch 42/50\n",
      "10/10 [==============================] - 0s 37ms/step - loss: 0.1337 - accuracy: 0.9682 - val_loss: 0.0913 - val_accuracy: 0.9500\n",
      "Epoch 43/50\n",
      "10/10 [==============================] - 0s 38ms/step - loss: 0.1162 - accuracy: 0.9745 - val_loss: 0.0718 - val_accuracy: 0.9750\n",
      "Epoch 44/50\n",
      "10/10 [==============================] - 0s 37ms/step - loss: 0.0912 - accuracy: 0.9809 - val_loss: 0.0819 - val_accuracy: 0.9500\n",
      "Epoch 45/50\n",
      "10/10 [==============================] - 0s 37ms/step - loss: 0.1385 - accuracy: 0.9682 - val_loss: 0.0756 - val_accuracy: 0.9500\n",
      "Epoch 46/50\n",
      "10/10 [==============================] - 0s 37ms/step - loss: 0.1426 - accuracy: 0.9618 - val_loss: 0.0937 - val_accuracy: 0.9500\n",
      "Epoch 47/50\n",
      "10/10 [==============================] - 0s 38ms/step - loss: 0.1140 - accuracy: 0.9618 - val_loss: 0.1018 - val_accuracy: 0.9500\n",
      "Epoch 48/50\n",
      "10/10 [==============================] - 0s 38ms/step - loss: 0.1107 - accuracy: 0.9745 - val_loss: 0.0895 - val_accuracy: 0.9500\n",
      "Epoch 49/50\n",
      "10/10 [==============================] - 0s 37ms/step - loss: 0.0863 - accuracy: 0.9809 - val_loss: 0.0846 - val_accuracy: 0.9500\n",
      "Epoch 50/50\n",
      "10/10 [==============================] - 0s 37ms/step - loss: 0.1163 - accuracy: 0.9682 - val_loss: 0.0764 - val_accuracy: 0.9500\n"
     ]
    },
    {
     "name": "stderr",
     "output_type": "stream",
     "text": [
      "WARNING:absl:Found untraced functions such as _jit_compiled_convolution_op while saving (showing 1 of 1). These functions will not be directly callable after loading.\n"
     ]
    },
    {
     "name": "stdout",
     "output_type": "stream",
     "text": [
      "INFO:tensorflow:Assets written to: docs_modelClass.h5py\\assets\n"
     ]
    },
    {
     "name": "stderr",
     "output_type": "stream",
     "text": [
      "INFO:tensorflow:Assets written to: docs_modelClass.h5py\\assets\n"
     ]
    }
   ],
   "source": [
    "Imgclass_train = Imgclass_model.fit(train_X, train_label, batch_size=batch_size,epochs=epochs,verbose=1,validation_data=(valid_X, valid_label))\n",
    "\n",
    "# Se guarda la red\n",
    "Imgclass_model.save(\"docs_modelClass.h5py\")"
   ]
  },
  {
   "cell_type": "markdown",
   "id": "d9136f42",
   "metadata": {},
   "source": [
    "# Análisis de Resultados\n",
    "Se alcanza una precisión del 98 % que se contrastará con al matriz de confusión.No obstante entre la época 20 y 25 se aprecia que la RED alcanza el máximo global."
   ]
  },
  {
   "cell_type": "code",
   "execution_count": 7,
   "id": "ed22b15f",
   "metadata": {},
   "outputs": [
    {
     "name": "stdout",
     "output_type": "stream",
     "text": [
      "2/2 [==============================] - 1s 154ms/step - loss: 0.0982 - accuracy: 0.9800\n",
      "Test loss: 0.09816303104162216\n",
      "Test accuracy: 0.9800000190734863\n"
     ]
    }
   ],
   "source": [
    "test_eval = Imgclass_model.evaluate(test_X, test_Y_one_hot, verbose=1)\n",
    "\n",
    "print('Test loss:', test_eval[0])\n",
    "print('Test accuracy:', test_eval[1])"
   ]
  },
  {
   "cell_type": "code",
   "execution_count": 8,
   "id": "42c9dc0f",
   "metadata": {},
   "outputs": [
    {
     "data": {
      "image/png": "[encoded data removed]",
      "text/plain": [
       "<Figure size 432x288 with 1 Axes>"
      ]
     },
     "metadata": {
      "needs_background": "light"
     },
     "output_type": "display_data"
    },
    {
     "data": {
      "image/png": "[encoded data removed]",
      "text/plain": [
       "<Figure size 432x288 with 1 Axes>"
      ]
     },
     "metadata": {
      "needs_background": "light"
     },
     "output_type": "display_data"
    }
   ],
   "source": [
    "accuracy = Imgclass_train.history['accuracy']\n",
    "val_accuracy = Imgclass_train.history['val_accuracy']\n",
    "loss = Imgclass_train.history['loss']\n",
    "val_loss = Imgclass_train.history['val_loss']\n",
    "epochs = range(len(accuracy))\n",
    "plt.plot(epochs, accuracy, 'bo', label='Training accuracy')\n",
    "plt.plot(epochs, val_accuracy, 'b', label='Validation accuracy')\n",
    "plt.title('Training and validation accuracy')\n",
    "plt.legend()\n",
    "plt.figure()\n",
    "plt.plot(epochs, loss, 'bo', label='Training loss')\n",
    "plt.plot(epochs, val_loss, 'b', label='Validation loss')\n",
    "plt.title('Training and validation loss')\n",
    "plt.legend()\n",
    "plt.show()"
   ]
  },
  {
   "cell_type": "code",
   "execution_count": 9,
   "id": "0d442502",
   "metadata": {},
   "outputs": [
    {
     "name": "stdout",
     "output_type": "stream",
     "text": [
      "2/2 [==============================] - 0s 25ms/step\n"
     ]
    }
   ],
   "source": [
    "predicted_classes2 = Imgclass_model.predict(test_X)"
   ]
  },
  {
   "cell_type": "code",
   "execution_count": 10,
   "id": "dfe3ba59",
   "metadata": {},
   "outputs": [],
   "source": [
    "predicted_classes=[]\n",
    "for predicted_sport in predicted_classes2:\n",
    "    predicted_classes.append(predicted_sport.tolist().index(max(predicted_sport)))\n",
    "predicted_classes=np.array(predicted_classes)"
   ]
  },
  {
   "cell_type": "code",
   "execution_count": 11,
   "id": "6433cac6",
   "metadata": {},
   "outputs": [
    {
     "data": {
      "text/plain": [
       "((50,), (50,))"
      ]
     },
     "execution_count": 11,
     "metadata": {},
     "output_type": "execute_result"
    }
   ],
   "source": [
    "predicted_classes.shape, test_Y.shape"
   ]
  },
  {
   "cell_type": "markdown",
   "id": "8b70772e",
   "metadata": {},
   "source": [
    "## Probando la clasificación del modelo con los datos de Testeo\n",
    "Con el test de 50 datos, 49 fueron clasificados de manera correcta y uno de manera incorrecta."
   ]
  },
  {
   "cell_type": "code",
   "execution_count": 12,
   "id": "1d4ba06b",
   "metadata": {},
   "outputs": [
    {
     "name": "stdout",
     "output_type": "stream",
     "text": [
      "Found 49 correct labels\n"
     ]
    },
    {
     "data": {
      "image/png": "[encoded data removed]",
      "text/plain": [
       "<Figure size 432x288 with 8 Axes>"
      ]
     },
     "metadata": {
      "needs_background": "light"
     },
     "output_type": "display_data"
    }
   ],
   "source": [
    "correct = np.where(predicted_classes==test_Y)[0]\n",
    "print(\"Found %d correct labels\" % len(correct))\n",
    "for i, correct in enumerate(correct[0:9]):\n",
    "    plt.subplot(3,3,i+1)\n",
    "    plt.imshow(test_X[correct].reshape(400,250,3), cmap='gray', interpolation='none')\n",
    "    plt.title(\"{}, {}\".format(tipo_documento[predicted_classes[correct]],\n",
    "                                                    tipo_documento[test_Y[correct]]))\n",
    "\n",
    "    plt.tight_layout()"
   ]
  },
  {
   "cell_type": "code",
   "execution_count": 13,
   "id": "0b9b2e94",
   "metadata": {},
   "outputs": [
    {
     "name": "stdout",
     "output_type": "stream",
     "text": [
      "Found 1 incorrect labels\n"
     ]
    },
    {
     "data": {
      "image/png": "[encoded data removed]",
      "text/plain": [
       "<Figure size 432x288 with 1 Axes>"
      ]
     },
     "metadata": {
      "needs_background": "light"
     },
     "output_type": "display_data"
    }
   ],
   "source": [
    "incorrect = np.where(predicted_classes!=test_Y)[0]\n",
    "print(\"Found %d incorrect labels\" % len(incorrect))\n",
    "for i, incorrect in enumerate(incorrect[0:9]):\n",
    "    plt.subplot(3,3,i+1)\n",
    "    plt.imshow(test_X[incorrect].reshape(400,250,3), cmap='gray', interpolation='none')\n",
    "    plt.title(\"{}, {}\".format(tipo_documento[predicted_classes[incorrect]],\n",
    "                                                    tipo_documento[test_Y[incorrect]]))\n",
    "    plt.tight_layout()"
   ]
  },
  {
   "cell_type": "code",
   "execution_count": 14,
   "id": "ea3d37bf",
   "metadata": {},
   "outputs": [
    {
     "name": "stdout",
     "output_type": "stream",
     "text": [
      "              precision    recall  f1-score   support\n",
      "\n",
      "     Class 0       0.97      1.00      0.98        29\n",
      "     Class 1       1.00      0.95      0.98        21\n",
      "\n",
      "    accuracy                           0.98        50\n",
      "   macro avg       0.98      0.98      0.98        50\n",
      "weighted avg       0.98      0.98      0.98        50\n",
      "\n"
     ]
    }
   ],
   "source": [
    "target_names = [\"Class {}\".format(i) for i in range(nClasses)]\n",
    "print(classification_report(test_Y, predicted_classes, target_names=target_names))"
   ]
  },
  {
   "cell_type": "code",
   "execution_count": 15,
   "id": "bd28cfeb",
   "metadata": {},
   "outputs": [
    {
     "data": {
      "image/png": "[encoded data removed]",
      "text/plain": [
       "<Figure size 288x288 with 2 Axes>"
      ]
     },
     "metadata": {
      "needs_background": "light"
     },
     "output_type": "display_data"
    }
   ],
   "source": [
    "mat_tf=tf.math.confusion_matrix(\n",
    "    test_Y,\n",
    "    predicted_classes,\n",
    "    num_classes=None,\n",
    "    weights=None,\n",
    "    dtype=tf.dtypes.float32,\n",
    "    name=None\n",
    ")\n",
    "\n",
    "con_mat_df = pd.DataFrame(mat_tf,\n",
    "                     index = classes, \n",
    "                     columns = classes)\n",
    "\n",
    "figure = plt.figure(figsize=(4, 4))\n",
    "sns.heatmap(con_mat_df, annot=True,cmap=plt.cm.Blues)\n",
    "plt.tight_layout()\n",
    "plt.ylabel('True label')\n",
    "plt.xlabel('Predicted label')\n",
    "plt.show()"
   ]
  },
  {
   "cell_type": "code",
   "execution_count": 16,
   "id": "b93bb510",
   "metadata": {},
   "outputs": [],
   "source": [
    "#Cálculo de la matriz de confusión nromalizada\n",
    "con_mat = tf.math.confusion_matrix(labels=test_Y, predictions=predicted_classes).numpy()"
   ]
  },
  {
   "cell_type": "code",
   "execution_count": 17,
   "id": "8ab9d124",
   "metadata": {},
   "outputs": [],
   "source": [
    "con_mat_norm = np.around(con_mat.astype('float') / con_mat.sum(axis=1)[:, np.newaxis], decimals=2)\n",
    "\n",
    "con_mat_df = pd.DataFrame(con_mat_norm,\n",
    "                     index = classes, \n",
    "                     columns = classes)"
   ]
  },
  {
   "cell_type": "code",
   "execution_count": 18,
   "id": "5c77302f",
   "metadata": {},
   "outputs": [
    {
     "data": {
      "image/png": "[encoded data removed]",
      "text/plain": [
       "<Figure size 288x288 with 2 Axes>"
      ]
     },
     "metadata": {
      "needs_background": "light"
     },
     "output_type": "display_data"
    }
   ],
   "source": [
    "figure = plt.figure(figsize=(4, 4))\n",
    "sns.heatmap(con_mat_df, annot=True,cmap=plt.cm.Blues)\n",
    "plt.tight_layout()\n",
    "plt.ylabel('True label')\n",
    "plt.xlabel('Predicted label')\n",
    "plt.show()"
   ]
  },
  {
   "cell_type": "markdown",
   "id": "5d4794cb",
   "metadata": {},
   "source": [
    "# Conclusión\n",
    "El modelo obtenido muestra un buen desempeño en la clasificación de documentos con contenido y sin contenido en formato imagen, logrando una precisión del 98%. No obstante, en varios intentos y modelos que se probaron previamente se encontró que el modelo se le dificulta clasificar correctamente los documentos con poco contendo y lo clasifica como documento en blanco. Esta parte se mejoró ajustando las épocas, el número de filtros (16), el tamaño del kernel (5x5) y la definición de 16 neuronas tradicionales para una salida de 2 neuronas con activiación \"Softmax\". En este sentido, queda planteado seguir probando más modelos cambiando la función de activación y comparar sus resultados.\n",
    "De otra, parte la activación de la tarjeta gráfica con la libreria tensorFlow optimiza el rendimiento en equipos personales, que sin este recurso otro equipo hubiera demandado mayor tiempo de ejecución lo que implicaría ajustar reducir los parámetros de la RED lo cual afecta su rendimiento. Sin embargo, una solución a esta situación es usar Google Colab."
   ]
  },
  {
   "cell_type": "code",
   "execution_count": null,
   "id": "fe405dbe",
   "metadata": {},
   "outputs": [],
   "source": []
  }
 ],
 "metadata": {
  "kernelspec": {
   "display_name": "gpu",
   "language": "python",
   "name": "gpu"
  },
  "language_info": {
   "codemirror_mode": {
    "name": "ipython",
    "version": 3
   },
   "file_extension": ".py",
   "mimetype": "text/x-python",
   "name": "python",
   "nbconvert_exporter": "python",
   "pygments_lexer": "ipython3",
   "version": "3.9.12"
  }
 },
 "nbformat": 4,
 "nbformat_minor": 5
}
